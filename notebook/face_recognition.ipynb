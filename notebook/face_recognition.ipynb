{
 "cells": [
  {
   "cell_type": "code",
   "execution_count": null,
   "metadata": {},
   "outputs": [],
   "source": [
    "pip install deepface"
   ]
  },
  {
   "cell_type": "code",
   "execution_count": 1,
   "metadata": {},
   "outputs": [
    {
     "name": "stdout",
     "output_type": "stream",
     "text": [
      "WARNING:tensorflow:From c:\\Users\\Praneeth_Dhananjaya\\anaconda3\\Lib\\site-packages\\keras\\src\\losses.py:2976: The name tf.losses.sparse_softmax_cross_entropy is deprecated. Please use tf.compat.v1.losses.sparse_softmax_cross_entropy instead.\n",
      "\n"
     ]
    }
   ],
   "source": [
    "import os\n",
    "from keras.preprocessing.image import load_img, save_img, img_to_array\n",
    "from keras.applications.imagenet_utils import preprocess_input\n",
    "from keras.preprocessing import image\n",
    "import matplotlib.pyplot as plt\n",
    "from deepface import DeepFace\n",
    "import cv2\n",
    "import pandas as pd\n",
    "import requests\n",
    "from urllib.parse import urlparse\n",
    "from collections import Counter\n",
    "import matplotlib.gridspec as gridspec"
   ]
  },
  {
   "cell_type": "code",
   "execution_count": 98,
   "metadata": {},
   "outputs": [],
   "source": [
    "base='d://Develop/Model Desiging and Testing/Face Recognition/'\n",
    "img1=base+\"CelebA_HQ_facial_identity_dataset/train/67/28352.jpg\"\n",
    "link='https://hips.hearstapps.com/digitalspyuk.cdnds.net/12/48/cult_merlin_s05_e09_1.jpg?crop=0.667xw:1xh;center,top&resize=2048:*'\n",
    "img2=base+\"CelebA_HQ_facial_identity_dataset/train/2193/26072.jpg\"\n",
    "db=base+\"CelebA_HQ_facial_identity_dataset/train\"\n",
    "metrics = [\"cosine\", \"euclidean\", \"euclidean_l2\"]\n",
    "backends = [\n",
    "  'opencv', \n",
    "  'ssd', \n",
    "  'dlib', \n",
    "  'mtcnn', \n",
    "  'retinaface', \n",
    "  'mediapipe',\n",
    "  'yolov8',\n",
    "  'yunet',\n",
    "  'fastmtcnn',\n",
    "]\n",
    "models = [\n",
    "  \"VGG-Face\", \n",
    "  \"Facenet\", \n",
    "  \"Facenet512\", \n",
    "  \"OpenFace\", \n",
    "  \"DeepFace\", \n",
    "  \"DeepID\", \n",
    "  \"ArcFace\", \n",
    "  \"Dlib\", \n",
    "  \"SFace\",\n",
    "]"
   ]
  },
  {
   "cell_type": "code",
   "execution_count": 3,
   "metadata": {},
   "outputs": [],
   "source": [
    "def download_image(image_url):\n",
    "    \n",
    "# Send a GET request to the URL\n",
    "    response = requests.get(image_url)\n",
    "\n",
    "# Check if the request was successful (status code 200)\n",
    "    if response.status_code == 200:\n",
    "    # Create a folder if it doesn't exist\n",
    "        folder_name = 'downloaded_images'\n",
    "        if not os.path.exists(folder_name):\n",
    "            os.makedirs(folder_name)\n",
    "\n",
    "    # Parse the URL to get the filename\n",
    "        parsed_url = urlparse(image_url)\n",
    "        file_name = os.path.basename(parsed_url.path)\n",
    "\n",
    "    # Define the file path to save the image\n",
    "        file_path = os.path.join(folder_name, file_name)\n",
    "\n",
    "    # Save the image to the specified file path\n",
    "        with open(file_path, 'wb') as file:\n",
    "            file.write(response.content)\n",
    "        print(f\"Image downloaded and saved as '{file_path}'\")\n",
    "        return file_path\n",
    "    else:\n",
    "        return (\"Failed to download the image\")\n",
    "def remove_file(file_path):\n",
    "    # Check if the file exists before attempting to remove it\n",
    "    if os.path.exists(file_path):\n",
    "        # Remove the file\n",
    "        os.remove(file_path)\n",
    "        print(f\"File '{file_path}' removed successfully.\")\n",
    "    else:\n",
    "        print(f\"The file '{file_path}' does not exist.\")\n",
    "def is_image_url_or_path(string,base):\n",
    "    if string.startswith(\"http://\") or string.startswith(\"https://\"):\n",
    "        img_path=base+download_image(link)\n",
    "        return img_path\n",
    "    else:\n",
    "        return string"
   ]
  },
  {
   "cell_type": "code",
   "execution_count": 96,
   "metadata": {},
   "outputs": [],
   "source": [
    "def display_faces(df,img_path,most_matching_face_filename,coordinates):\n",
    "    #  identify_path_list=dfs[i]['identity'].tolist()\n",
    "    identify_path_list=df['identity'].tolist()\n",
    "    most_matching_path=[]\n",
    "    x1,y1,x2,y2=coordinates\n",
    "    for path in identify_path_list:\n",
    "        if os.path.basename(os.path.dirname(path))==most_matching_face_filename:\n",
    "            most_matching_path.append(path)\n",
    "\n",
    "    fig = plt.figure(tight_layout=True)\n",
    "    \n",
    "    length=len(most_matching_path)\n",
    "    rows = 5\n",
    "    gs = gridspec.GridSpec(rows, 2)\n",
    "\n",
    "\n",
    "    ax = fig.add_subplot(gs[0, :])\n",
    "    # f.add_subplot(length, 1, 1)\n",
    "    img=image.load_img(img_path)\n",
    "    img_array = image.img_to_array(img)\n",
    "    crop_face_detect = img_array[y1:y2, x1:x2, :]\n",
    "    cropped_img = image.array_to_img(crop_face_detect)\n",
    "    \n",
    "    plt.imshow(cropped_img)\n",
    "    plt.title(os.path.basename(os.path.dirname(img_path)))\n",
    "    # # plt.imshow(cropped_img)\n",
    "    # plt.title(most_matching_face_filename)\n",
    "    # plt.xticks([])\n",
    "    # plt.yticks([])\n",
    "    col=0\n",
    "    row=1\n",
    "    min_val=min(len(most_matching_path),5)\n",
    "    for i,path in enumerate(most_matching_path[:min_val]) :\n",
    "        if col>1:\n",
    "            col=0\n",
    "            row+=1\n",
    "        # if col<=2:\n",
    "        subplt = fig.add_subplot(gs[row, col])\n",
    "        img = image.load_img(path)\n",
    "        \n",
    "        plt.imshow(img)\n",
    "        plt.title(most_matching_face_filename)\n",
    "        \n",
    "        col+=1\n",
    "        # plt.imshow(img)\n",
    "        # plt.title(os.path.basename(os.path.dirname(path)))\n",
    "        # plt.xticks([])\n",
    "        # plt.yticks([])\n",
    "    \n",
    "    plt.show()\n",
    "def find_faces(image_path,face_db_path,distance_matrics,detector_backend,model_name):\n",
    "    dfs=DeepFace.find(img_path=image_path,db_path=face_db_path, distance_metric = distance_matrics[2],detector_backend=detector_backend[3] ,model_name=model_name[2])\n",
    "    \n",
    "    all_recognitions=[]\n",
    "    all_no_recognitions=[]\n",
    "    source_persons=[]\n",
    "    list_recognitions=[]\n",
    "\n",
    "    for i in range(len(dfs)):\n",
    "        identify_path_list=dfs[i]['identity'].tolist()\n",
    "        no_recognitions=len(identify_path_list)\n",
    "        all_no_recognitions.append(no_recognitions)\n",
    "        recognize_person=[]\n",
    "\n",
    "        for path in identify_path_list:\n",
    "            parent_folder = os.path.basename(os.path.dirname(path))\n",
    "            recognize_person.append(parent_folder)\n",
    "        all_recognitions.append(recognize_person)\n",
    "\n",
    "        for j in range(no_recognitions):\n",
    "            x1=int(dfs[i]['source_x'].tolist()[j])\n",
    "            y1=int(dfs[i]['source_y'].tolist()[j])\n",
    "            x2=x1+int(dfs[i]['source_w'].tolist()[j])\n",
    "            y2=y1+int(dfs[i]['source_h'].tolist()[j])\n",
    "            source_persons.append([x1,y1,x2,y2])\n",
    "            \n",
    "    # Removing duplicates from source_persons\n",
    "    source_persons_unique =  pd.DataFrame(source_persons, columns=['x1', 'y1', 'x2', 'y2']).drop_duplicates()\n",
    "    \n",
    "    for i in range(len(all_recognitions)):\n",
    "        recg=all_recognitions[i]\n",
    "        list_re=Counter(dict(Counter(recg))).most_common()\n",
    "        list_recognitions.append({'person_index': i ,\n",
    "                                  'detect_person_coordinates':source_persons_unique.to_numpy()[i] ,\n",
    "                                  'num_recognition': all_no_recognitions[i],\n",
    "                                  'recognitions_list': list_re})\n",
    "        display_faces(dfs[i],image_path,list_re[0][0],source_persons_unique.to_numpy()[i])\n",
    "    return list_recognitions"
   ]
  },
  {
   "cell_type": "code",
   "execution_count": 99,
   "metadata": {},
   "outputs": [
    {
     "name": "stdout",
     "output_type": "stream",
     "text": [
      "24-02-19 16:17:04 - There are 4384 representations found in representations_facenet512.pkl\n",
      "1/1 [==============================] - 0s 119ms/step\n",
      "1/1 [==============================] - 0s 260ms/step\n",
      "1/1 [==============================] - 0s 46ms/step\n",
      "1/1 [==============================] - 0s 29ms/step\n",
      "1/1 [==============================] - 0s 34ms/step\n",
      "1/1 [==============================] - 0s 31ms/step\n",
      "1/1 [==============================] - 0s 25ms/step\n",
      "1/1 [==============================] - 0s 17ms/step\n",
      "1/1 [==============================] - 0s 33ms/step\n",
      "1/1 [==============================] - 0s 16ms/step\n",
      "1/1 [==============================] - 0s 14ms/step\n",
      "1/1 [==============================] - 0s 18ms/step\n",
      "8/8 [==============================] - 0s 7ms/step\n",
      "1/1 [==============================] - 0s 34ms/step\n",
      "24-02-19 16:17:07 - find function lasts 3.9224977493286133 seconds\n",
      "67\n",
      "67\n",
      "67\n",
      "67\n",
      "67\n"
     ]
    },
    {
     "data": {
      "image/png": "[encoded data removed]",
      "text/plain": [
       "<Figure size 640x480 with 6 Axes>"
      ]
     },
     "metadata": {},
     "output_type": "display_data"
    }
   ],
   "source": [
    "path=is_image_url_or_path(img1,base)\n",
    "predictions=find_faces(image_path=path,face_db_path=db,distance_matrics=metrics,detector_backend=backends,model_name=models)\n",
    "# most_matching_person_name=predictions[0]['recognitions_list'][0][0]\n",
    "# number_of_matching_faces=predictions[0]['recognitions_list'][0][1]\n",
    "# print(most_matching_person_name,\"====>\",number_of_matching_faces)"
   ]
  },
  {
   "cell_type": "code",
   "execution_count": 10,
   "metadata": {},
   "outputs": [
    {
     "name": "stdout",
     "output_type": "stream",
     "text": [
      "24-02-16 09:14:53 - ⚠️ Function detectFace is deprecated. Use extract_faces instead.\n"
     ]
    }
   ],
   "source": [
    "detect=DeepFace.detectFace(img1)\n",
    "\n",
    "plt.imshow(detect)\n",
    "result= DeepFace.verify(img1_path=img1,img2_path=img2, model_name='Facenet512',distance_metric = metrics[2],detector_backend=backends[3] )\n",
    "result"
   ]
  },
  {
   "cell_type": "code",
   "execution_count": 75,
   "metadata": {},
   "outputs": [
    {
     "data": {
      "text/plain": [
       "'458'"
      ]
     },
     "execution_count": 75,
     "metadata": {},
     "output_type": "execute_result"
    }
   ],
   "source": [
    "name_counts = Counter(nameList)\n",
    "list=dict(name_counts)\n",
    "# Convert the dictionary to a Counter object\n",
    "name_counts = Counter(list)\n",
    "\n",
    "# Sort the items by count in descending order\n",
    "sorted_counts = name_counts.most_common()\n",
    "sorted_counts[0][0]"
   ]
  },
  {
   "cell_type": "code",
   "execution_count": 60,
   "metadata": {},
   "outputs": [
    {
     "name": "stdout",
     "output_type": "stream",
     "text": [
      "Abdullah_0004.jpg\n",
      "d:/Develop/Model Desiging and Testing/Face Recognition/ckeck/Abdullah_0004.jpg\n",
      "Abdullah_0001.jpg\n",
      "d:/Develop/Model Desiging and Testing/Face Recognition/ckeck/Abdullah_0001.jpg\n",
      "Abdullah_0003.jpg\n",
      "d:/Develop/Model Desiging and Testing/Face Recognition/ckeck/Abdullah_0003.jpg\n",
      "Images copied successfully.\n"
     ]
    }
   ],
   "source": [
    "import shutil\n",
    "import os\n",
    "\n",
    "# Source directory containing the images\n",
    "directory = \"d:/Develop/Model Desiging and Testing/Face Recognition/ckeck\"\n",
    "\n",
    "\n",
    "# List of image paths\n",
    "identify_path = dfs[0]['identity'].tolist()\n",
    "\n",
    "# Iterate over each image path and copy it to the destination directory\n",
    "for i,image_path in enumerate(identify_path):\n",
    "    if image_distance[i]<20:\n",
    "        # Extract the filename from the image path\n",
    "        image_filename = os.path.basename(image_path)\n",
    "        print(image_filename)\n",
    "        # Construct the source and destination paths\n",
    "        copy_path = directory+\"/\"+image_filename\n",
    "        print(copy_path)\n",
    "\n",
    "        # Copy the image file to the destination directory\n",
    "        shutil.copyfile(image_path, copy_path)\n",
    "\n",
    "print(\"Images copied successfully.\")\n"
   ]
  },
  {
   "cell_type": "code",
   "execution_count": null,
   "metadata": {},
   "outputs": [],
   "source": [
    "import tarfile\n",
    "\n",
    "# Replace \"lfw-funneled.tgz\" with the name of your .tgz file\n",
    "file_path = \"lfw-funneled.tgz\"\n",
    "\n",
    "# Extract the contents of the .tgz file\n",
    "with tarfile.open(file_path, \"r:gz\") as tar:\n",
    "    tar.extractall()"
   ]
  }
 ],
 "metadata": {
  "kernelspec": {
   "display_name": "base",
   "language": "python",
   "name": "python3"
  },
  "language_info": {
   "codemirror_mode": {
    "name": "ipython",
    "version": 3
   },
   "file_extension": ".py",
   "mimetype": "text/x-python",
   "name": "python",
   "nbconvert_exporter": "python",
   "pygments_lexer": "ipython3",
   "version": "0.0.0"
  }
 },
 "nbformat": 4,
 "nbformat_minor": 2
}
